{
 "cells": [
  {
   "cell_type": "markdown",
   "metadata": {},
   "source": [
    "### Context\n",
    "Chocolate is one of the most popular candies in the world. Each year, residents of the United States collectively eat more than 2.8 billions pounds. However, not all chocolate bars are created equal! This dataset contains expert ratings of over 1,700 individual chocolate bars, along with information on their regional origin, percentage of cocoa, the variety of chocolate bean used and where the beans were grown."
   ]
  },
  {
   "cell_type": "markdown",
   "metadata": {},
   "source": [
    "Here I will try to predict rating of the chocolate based on it's given features. The open datasets provided by Kaggle will be used for modelling and prediction."
   ]
  },
  {
   "cell_type": "code",
   "execution_count": 1,
   "metadata": {},
   "outputs": [],
   "source": [
    "## Imports for the required Libraries\n",
    "import numpy as np\n",
    "import pandas as pd\n",
    "import matplotlib.pyplot as plt\n",
    "import seaborn as sns\n",
    "import warnings\n",
    "import re\n",
    "from subprocess import check_output\n",
    "\n",
    "warnings.simplefilter('ignore')\n",
    "%matplotlib inline"
   ]
  },
  {
   "cell_type": "code",
   "execution_count": 2,
   "metadata": {},
   "outputs": [
    {
     "data": {
      "text/plain": [
       "(1795, 9)"
      ]
     },
     "execution_count": 2,
     "metadata": {},
     "output_type": "execute_result"
    }
   ],
   "source": [
    "## Load data form flavors_of_cacao.csv\n",
    "chocolate_data = pd.read_csv('./input/flavors_of_cacao.csv')\n",
    "# prints (No. of Rows, No. of Columns) in chocolate_data dataframe\n",
    "chocolate_data.shape"
   ]
  },
  {
   "cell_type": "code",
   "execution_count": 3,
   "metadata": {},
   "outputs": [
    {
     "data": {
      "text/html": [
       "<div>\n",
       "<style scoped>\n",
       "    .dataframe tbody tr th:only-of-type {\n",
       "        vertical-align: middle;\n",
       "    }\n",
       "\n",
       "    .dataframe tbody tr th {\n",
       "        vertical-align: top;\n",
       "    }\n",
       "\n",
       "    .dataframe thead th {\n",
       "        text-align: right;\n",
       "    }\n",
       "</style>\n",
       "<table border=\"1\" class=\"dataframe\">\n",
       "  <thead>\n",
       "    <tr style=\"text-align: right;\">\n",
       "      <th></th>\n",
       "      <th>Company \n",
       "(Maker-if known)</th>\n",
       "      <th>Specific Bean Origin\n",
       "or Bar Name</th>\n",
       "      <th>REF</th>\n",
       "      <th>Review\n",
       "Date</th>\n",
       "      <th>Cocoa\n",
       "Percent</th>\n",
       "      <th>Company\n",
       "Location</th>\n",
       "      <th>Rating</th>\n",
       "      <th>Bean\n",
       "Type</th>\n",
       "      <th>Broad Bean\n",
       "Origin</th>\n",
       "    </tr>\n",
       "  </thead>\n",
       "  <tbody>\n",
       "    <tr>\n",
       "      <th>0</th>\n",
       "      <td>A. Morin</td>\n",
       "      <td>Agua Grande</td>\n",
       "      <td>1876</td>\n",
       "      <td>2016</td>\n",
       "      <td>63%</td>\n",
       "      <td>France</td>\n",
       "      <td>3.75</td>\n",
       "      <td></td>\n",
       "      <td>Sao Tome</td>\n",
       "    </tr>\n",
       "    <tr>\n",
       "      <th>1</th>\n",
       "      <td>A. Morin</td>\n",
       "      <td>Kpime</td>\n",
       "      <td>1676</td>\n",
       "      <td>2015</td>\n",
       "      <td>70%</td>\n",
       "      <td>France</td>\n",
       "      <td>2.75</td>\n",
       "      <td></td>\n",
       "      <td>Togo</td>\n",
       "    </tr>\n",
       "    <tr>\n",
       "      <th>2</th>\n",
       "      <td>A. Morin</td>\n",
       "      <td>Atsane</td>\n",
       "      <td>1676</td>\n",
       "      <td>2015</td>\n",
       "      <td>70%</td>\n",
       "      <td>France</td>\n",
       "      <td>3.00</td>\n",
       "      <td></td>\n",
       "      <td>Togo</td>\n",
       "    </tr>\n",
       "    <tr>\n",
       "      <th>3</th>\n",
       "      <td>A. Morin</td>\n",
       "      <td>Akata</td>\n",
       "      <td>1680</td>\n",
       "      <td>2015</td>\n",
       "      <td>70%</td>\n",
       "      <td>France</td>\n",
       "      <td>3.50</td>\n",
       "      <td></td>\n",
       "      <td>Togo</td>\n",
       "    </tr>\n",
       "    <tr>\n",
       "      <th>4</th>\n",
       "      <td>A. Morin</td>\n",
       "      <td>Quilla</td>\n",
       "      <td>1704</td>\n",
       "      <td>2015</td>\n",
       "      <td>70%</td>\n",
       "      <td>France</td>\n",
       "      <td>3.50</td>\n",
       "      <td></td>\n",
       "      <td>Peru</td>\n",
       "    </tr>\n",
       "  </tbody>\n",
       "</table>\n",
       "</div>"
      ],
      "text/plain": [
       "  Company \\n(Maker-if known) Specific Bean Origin\\nor Bar Name   REF  \\\n",
       "0                   A. Morin                       Agua Grande  1876   \n",
       "1                   A. Morin                             Kpime  1676   \n",
       "2                   A. Morin                            Atsane  1676   \n",
       "3                   A. Morin                             Akata  1680   \n",
       "4                   A. Morin                            Quilla  1704   \n",
       "\n",
       "   Review\\nDate Cocoa\\nPercent Company\\nLocation  Rating Bean\\nType  \\\n",
       "0          2016            63%            France    3.75              \n",
       "1          2015            70%            France    2.75              \n",
       "2          2015            70%            France    3.00              \n",
       "3          2015            70%            France    3.50              \n",
       "4          2015            70%            France    3.50              \n",
       "\n",
       "  Broad Bean\\nOrigin  \n",
       "0           Sao Tome  \n",
       "1               Togo  \n",
       "2               Togo  \n",
       "3               Togo  \n",
       "4               Peru  "
      ]
     },
     "execution_count": 3,
     "metadata": {},
     "output_type": "execute_result"
    }
   ],
   "source": [
    "##preview of data with first five rows\n",
    "chocolate_data.head()"
   ]
  },
  {
   "cell_type": "markdown",
   "metadata": {},
   "source": [
    "### Data description\n",
    "\n",
    "* **Company (Maker-if known)** - Name of the company manufacturing the bar.\n",
    "* **Specific Bean Origin or Bar Name** - The specific geo-region of origin for the bar.\n",
    "* **REF** - Help us describe this column... What is it?\n",
    "* **Review Date** - Date of publication of the review.\n",
    "* **Cocoa Percent** - Cocoa percentage (darkness) of the chocolate bar being reviewed.\n",
    "* **Company Location** - Manufacturer base country.\n",
    "* **Rating** - Expert rating for the bar.\n",
    "* **Bean Type** - The variety (breed) of bean used, if provided.\n",
    "* **Broad Bean Origin** - The broad geo-region of origin for the bean."
   ]
  },
  {
   "cell_type": "markdown",
   "metadata": {},
   "source": [
    "### Flavors of Cacao Rating System:\n",
    "* 5 = Elite (Transcending beyond the ordinary limits)\n",
    "* 4 = Premium (Superior flavor development, character and style)\n",
    "* 3 = Satisfactory(3.0) to praiseworthy(3.75) (well made with special qualities)\n",
    "* 2 = Disappointing (Passable but contains at least one significant flaw)\n",
    "* 1 = Unpleasant (mostly unpalatable)"
   ]
  },
  {
   "cell_type": "markdown",
   "metadata": {},
   "source": [
    "Now we have some insights of what type of data we have and what each column (exept REF) mean for."
   ]
  },
  {
   "cell_type": "code",
   "execution_count": 4,
   "metadata": {},
   "outputs": [
    {
     "data": {
      "text/plain": [
       "Company \\n(Maker-if known)            object\n",
       "Specific Bean Origin\\nor Bar Name     object\n",
       "REF                                    int64\n",
       "Review\\nDate                           int64\n",
       "Cocoa\\nPercent                        object\n",
       "Company\\nLocation                     object\n",
       "Rating                               float64\n",
       "Bean\\nType                            object\n",
       "Broad Bean\\nOrigin                    object\n",
       "dtype: object"
      ]
     },
     "execution_count": 4,
     "metadata": {},
     "output_type": "execute_result"
    }
   ],
   "source": [
    "# Get the data types of columns\n",
    "chocolate_data.dtypes"
   ]
  },
  {
   "cell_type": "code",
   "execution_count": 5,
   "metadata": {},
   "outputs": [
    {
     "data": {
      "text/html": [
       "<div>\n",
       "<style scoped>\n",
       "    .dataframe tbody tr th:only-of-type {\n",
       "        vertical-align: middle;\n",
       "    }\n",
       "\n",
       "    .dataframe tbody tr th {\n",
       "        vertical-align: top;\n",
       "    }\n",
       "\n",
       "    .dataframe thead th {\n",
       "        text-align: right;\n",
       "    }\n",
       "</style>\n",
       "<table border=\"1\" class=\"dataframe\">\n",
       "  <thead>\n",
       "    <tr style=\"text-align: right;\">\n",
       "      <th></th>\n",
       "      <th>Company</th>\n",
       "      <th>SB_origin</th>\n",
       "      <th>REF</th>\n",
       "      <th>Review_Date</th>\n",
       "      <th>Cocoa_per</th>\n",
       "      <th>Company_loc</th>\n",
       "      <th>Rating</th>\n",
       "      <th>Bean_Type</th>\n",
       "      <th>BB_origin</th>\n",
       "    </tr>\n",
       "  </thead>\n",
       "  <tbody>\n",
       "    <tr>\n",
       "      <th>0</th>\n",
       "      <td>A. Morin</td>\n",
       "      <td>Agua Grande</td>\n",
       "      <td>1876</td>\n",
       "      <td>2016</td>\n",
       "      <td>0.63</td>\n",
       "      <td>France</td>\n",
       "      <td>3.75</td>\n",
       "      <td></td>\n",
       "      <td>Sao Tome</td>\n",
       "    </tr>\n",
       "    <tr>\n",
       "      <th>1</th>\n",
       "      <td>A. Morin</td>\n",
       "      <td>Kpime</td>\n",
       "      <td>1676</td>\n",
       "      <td>2015</td>\n",
       "      <td>0.70</td>\n",
       "      <td>France</td>\n",
       "      <td>2.75</td>\n",
       "      <td></td>\n",
       "      <td>Togo</td>\n",
       "    </tr>\n",
       "    <tr>\n",
       "      <th>2</th>\n",
       "      <td>A. Morin</td>\n",
       "      <td>Atsane</td>\n",
       "      <td>1676</td>\n",
       "      <td>2015</td>\n",
       "      <td>0.70</td>\n",
       "      <td>France</td>\n",
       "      <td>3.00</td>\n",
       "      <td></td>\n",
       "      <td>Togo</td>\n",
       "    </tr>\n",
       "    <tr>\n",
       "      <th>3</th>\n",
       "      <td>A. Morin</td>\n",
       "      <td>Akata</td>\n",
       "      <td>1680</td>\n",
       "      <td>2015</td>\n",
       "      <td>0.70</td>\n",
       "      <td>France</td>\n",
       "      <td>3.50</td>\n",
       "      <td></td>\n",
       "      <td>Togo</td>\n",
       "    </tr>\n",
       "    <tr>\n",
       "      <th>4</th>\n",
       "      <td>A. Morin</td>\n",
       "      <td>Quilla</td>\n",
       "      <td>1704</td>\n",
       "      <td>2015</td>\n",
       "      <td>0.70</td>\n",
       "      <td>France</td>\n",
       "      <td>3.50</td>\n",
       "      <td></td>\n",
       "      <td>Peru</td>\n",
       "    </tr>\n",
       "  </tbody>\n",
       "</table>\n",
       "</div>"
      ],
      "text/plain": [
       "    Company    SB_origin   REF  Review_Date  Cocoa_per Company_loc  Rating  \\\n",
       "0  A. Morin  Agua Grande  1876         2016       0.63      France    3.75   \n",
       "1  A. Morin        Kpime  1676         2015       0.70      France    2.75   \n",
       "2  A. Morin       Atsane  1676         2015       0.70      France    3.00   \n",
       "3  A. Morin        Akata  1680         2015       0.70      France    3.50   \n",
       "4  A. Morin       Quilla  1704         2015       0.70      France    3.50   \n",
       "\n",
       "  Bean_Type BB_origin  \n",
       "0            Sao Tome  \n",
       "1                Togo  \n",
       "2                Togo  \n",
       "3                Togo  \n",
       "4                Peru  "
      ]
     },
     "execution_count": 5,
     "metadata": {},
     "output_type": "execute_result"
    }
   ],
   "source": [
    "# Rename the columns name\n",
    "original_columns = chocolate_data.columns\n",
    "new_columns = ['Company', 'SB_origin', 'REF', 'Review_Date', 'Cocoa_per', 'Company_loc', 'Rating', 'Bean_Type', 'BB_origin']\n",
    "chocolate_data = chocolate_data.rename(columns=dict(zip(original_columns, new_columns)))\n",
    "# Replace the data type of cocoa percentage to float\n",
    "chocolate_data['Cocoa_per'] = chocolate_data['Cocoa_per'].str.replace('%','').astype(float)/100\n",
    "chocolate_data.head()"
   ]
  },
  {
   "cell_type": "code",
   "execution_count": 6,
   "metadata": {
    "scrolled": true
   },
   "outputs": [
    {
     "data": {
      "text/html": [
       "<div>\n",
       "<style scoped>\n",
       "    .dataframe tbody tr th:only-of-type {\n",
       "        vertical-align: middle;\n",
       "    }\n",
       "\n",
       "    .dataframe tbody tr th {\n",
       "        vertical-align: top;\n",
       "    }\n",
       "\n",
       "    .dataframe thead th {\n",
       "        text-align: right;\n",
       "    }\n",
       "</style>\n",
       "<table border=\"1\" class=\"dataframe\">\n",
       "  <thead>\n",
       "    <tr style=\"text-align: right;\">\n",
       "      <th></th>\n",
       "      <th>count</th>\n",
       "      <th>unique</th>\n",
       "      <th>top</th>\n",
       "      <th>freq</th>\n",
       "      <th>mean</th>\n",
       "      <th>std</th>\n",
       "      <th>min</th>\n",
       "      <th>25%</th>\n",
       "      <th>50%</th>\n",
       "      <th>75%</th>\n",
       "      <th>max</th>\n",
       "    </tr>\n",
       "  </thead>\n",
       "  <tbody>\n",
       "    <tr>\n",
       "      <th>Company</th>\n",
       "      <td>1795</td>\n",
       "      <td>416</td>\n",
       "      <td>Soma</td>\n",
       "      <td>47</td>\n",
       "      <td>NaN</td>\n",
       "      <td>NaN</td>\n",
       "      <td>NaN</td>\n",
       "      <td>NaN</td>\n",
       "      <td>NaN</td>\n",
       "      <td>NaN</td>\n",
       "      <td>NaN</td>\n",
       "    </tr>\n",
       "    <tr>\n",
       "      <th>SB_origin</th>\n",
       "      <td>1795</td>\n",
       "      <td>1039</td>\n",
       "      <td>Madagascar</td>\n",
       "      <td>57</td>\n",
       "      <td>NaN</td>\n",
       "      <td>NaN</td>\n",
       "      <td>NaN</td>\n",
       "      <td>NaN</td>\n",
       "      <td>NaN</td>\n",
       "      <td>NaN</td>\n",
       "      <td>NaN</td>\n",
       "    </tr>\n",
       "    <tr>\n",
       "      <th>REF</th>\n",
       "      <td>1795</td>\n",
       "      <td>NaN</td>\n",
       "      <td>NaN</td>\n",
       "      <td>NaN</td>\n",
       "      <td>1035.9</td>\n",
       "      <td>552.886</td>\n",
       "      <td>5</td>\n",
       "      <td>576</td>\n",
       "      <td>1069</td>\n",
       "      <td>1502</td>\n",
       "      <td>1952</td>\n",
       "    </tr>\n",
       "    <tr>\n",
       "      <th>Review_Date</th>\n",
       "      <td>1795</td>\n",
       "      <td>NaN</td>\n",
       "      <td>NaN</td>\n",
       "      <td>NaN</td>\n",
       "      <td>2012.33</td>\n",
       "      <td>2.92721</td>\n",
       "      <td>2006</td>\n",
       "      <td>2010</td>\n",
       "      <td>2013</td>\n",
       "      <td>2015</td>\n",
       "      <td>2017</td>\n",
       "    </tr>\n",
       "    <tr>\n",
       "      <th>Cocoa_per</th>\n",
       "      <td>1795</td>\n",
       "      <td>NaN</td>\n",
       "      <td>NaN</td>\n",
       "      <td>NaN</td>\n",
       "      <td>0.716983</td>\n",
       "      <td>0.0632312</td>\n",
       "      <td>0.42</td>\n",
       "      <td>0.7</td>\n",
       "      <td>0.7</td>\n",
       "      <td>0.75</td>\n",
       "      <td>1</td>\n",
       "    </tr>\n",
       "    <tr>\n",
       "      <th>Company_loc</th>\n",
       "      <td>1795</td>\n",
       "      <td>60</td>\n",
       "      <td>U.S.A.</td>\n",
       "      <td>764</td>\n",
       "      <td>NaN</td>\n",
       "      <td>NaN</td>\n",
       "      <td>NaN</td>\n",
       "      <td>NaN</td>\n",
       "      <td>NaN</td>\n",
       "      <td>NaN</td>\n",
       "      <td>NaN</td>\n",
       "    </tr>\n",
       "    <tr>\n",
       "      <th>Rating</th>\n",
       "      <td>1795</td>\n",
       "      <td>NaN</td>\n",
       "      <td>NaN</td>\n",
       "      <td>NaN</td>\n",
       "      <td>3.18593</td>\n",
       "      <td>0.478062</td>\n",
       "      <td>1</td>\n",
       "      <td>2.875</td>\n",
       "      <td>3.25</td>\n",
       "      <td>3.5</td>\n",
       "      <td>5</td>\n",
       "    </tr>\n",
       "    <tr>\n",
       "      <th>Bean_Type</th>\n",
       "      <td>1794</td>\n",
       "      <td>41</td>\n",
       "      <td></td>\n",
       "      <td>887</td>\n",
       "      <td>NaN</td>\n",
       "      <td>NaN</td>\n",
       "      <td>NaN</td>\n",
       "      <td>NaN</td>\n",
       "      <td>NaN</td>\n",
       "      <td>NaN</td>\n",
       "      <td>NaN</td>\n",
       "    </tr>\n",
       "    <tr>\n",
       "      <th>BB_origin</th>\n",
       "      <td>1794</td>\n",
       "      <td>100</td>\n",
       "      <td>Venezuela</td>\n",
       "      <td>214</td>\n",
       "      <td>NaN</td>\n",
       "      <td>NaN</td>\n",
       "      <td>NaN</td>\n",
       "      <td>NaN</td>\n",
       "      <td>NaN</td>\n",
       "      <td>NaN</td>\n",
       "      <td>NaN</td>\n",
       "    </tr>\n",
       "  </tbody>\n",
       "</table>\n",
       "</div>"
      ],
      "text/plain": [
       "            count unique         top freq      mean        std   min    25%  \\\n",
       "Company      1795    416        Soma   47       NaN        NaN   NaN    NaN   \n",
       "SB_origin    1795   1039  Madagascar   57       NaN        NaN   NaN    NaN   \n",
       "REF          1795    NaN         NaN  NaN    1035.9    552.886     5    576   \n",
       "Review_Date  1795    NaN         NaN  NaN   2012.33    2.92721  2006   2010   \n",
       "Cocoa_per    1795    NaN         NaN  NaN  0.716983  0.0632312  0.42    0.7   \n",
       "Company_loc  1795     60      U.S.A.  764       NaN        NaN   NaN    NaN   \n",
       "Rating       1795    NaN         NaN  NaN   3.18593   0.478062     1  2.875   \n",
       "Bean_Type    1794     41              887       NaN        NaN   NaN    NaN   \n",
       "BB_origin    1794    100   Venezuela  214       NaN        NaN   NaN    NaN   \n",
       "\n",
       "              50%   75%   max  \n",
       "Company       NaN   NaN   NaN  \n",
       "SB_origin     NaN   NaN   NaN  \n",
       "REF          1069  1502  1952  \n",
       "Review_Date  2013  2015  2017  \n",
       "Cocoa_per     0.7  0.75     1  \n",
       "Company_loc   NaN   NaN   NaN  \n",
       "Rating       3.25   3.5     5  \n",
       "Bean_Type     NaN   NaN   NaN  \n",
       "BB_origin     NaN   NaN   NaN  "
      ]
     },
     "execution_count": 6,
     "metadata": {},
     "output_type": "execute_result"
    }
   ],
   "source": [
    "chocolate_data.describe(include='all').T #Describe the data in transpose form"
   ]
  },
  {
   "cell_type": "code",
   "execution_count": 7,
   "metadata": {},
   "outputs": [
    {
     "data": {
      "text/plain": [
       "Madagascar            57\n",
       "Peru                  45\n",
       "Ecuador               42\n",
       "Dominican Republic    37\n",
       "Venezuela             21\n",
       "Sambirano             19\n",
       "Chuao                 19\n",
       "Ocumare               17\n",
       "Ghana                 15\n",
       "Papua New Guinea      15\n",
       "Name: SB_origin, dtype: int64"
      ]
     },
     "execution_count": 7,
     "metadata": {},
     "output_type": "execute_result"
    }
   ],
   "source": [
    "# Top 10 most frequent Specific bean origin\n",
    "chocolate_data['SB_origin'].value_counts().head(10)"
   ]
  },
  {
   "cell_type": "code",
   "execution_count": 8,
   "metadata": {},
   "outputs": [
    {
     "data": {
      "text/plain": [
       "False    1794\n",
       "True        1\n",
       "Name: BB_origin, dtype: int64"
      ]
     },
     "execution_count": 8,
     "metadata": {},
     "output_type": "execute_result"
    }
   ],
   "source": [
    "# check any N/A values in  \n",
    "chocolate_data['BB_origin'].isnull().value_counts()"
   ]
  },
  {
   "cell_type": "code",
   "execution_count": 9,
   "metadata": {},
   "outputs": [],
   "source": [
    "# Replace empty BB_origin\n",
    "chocolate_data['BB_origin'] = chocolate_data['BB_origin'].fillna(chocolate_data['SB_origin'])"
   ]
  },
  {
   "cell_type": "code",
   "execution_count": 10,
   "metadata": {},
   "outputs": [
    {
     "data": {
      "text/plain": [
       "Venezuela             214\n",
       "Ecuador               193\n",
       "Peru                  165\n",
       "Madagascar            146\n",
       "Dominican Republic    141\n",
       "                       73\n",
       "Nicaragua              60\n",
       "Brazil                 58\n",
       "Bolivia                57\n",
       "Belize                 49\n",
       "Name: BB_origin, dtype: int64"
      ]
     },
     "execution_count": 10,
     "metadata": {},
     "output_type": "execute_result"
    }
   ],
   "source": [
    "chocolate_data['BB_origin'].value_counts().head(10)"
   ]
  },
  {
   "cell_type": "code",
   "execution_count": 11,
   "metadata": {},
   "outputs": [
    {
     "data": {
      "text/plain": [
       "array(['Nine', 'Toscano Black', 'Houseblend', 'Nature', 'Organic Dark',\n",
       "       'One Hundred', 'Blend', 'Lago di Como, Blu', 'Blend No. 1',\n",
       "       'Philly Blend, 5 plantations', 'Kendari', 'Tarakan', 'Maragda',\n",
       "       'Sensations Intense', 'Zorzal Reserva, 2015 H., Kerchner', 'Noir',\n",
       "       'Ilblend', 'Red Vanilla', 'Supremo- SF', 'Dark',\n",
       "       'Epique, Blend No. 49', 'Coucher du Soleil', 'Lever du Soleil',\n",
       "       'Onyx', 'Nocturne', 'Complexite', 'Special Maker Reserve',\n",
       "       'Quetzalcoatl', 'Tsaranta', 'Semisweet', 'Campesino w/ nibs',\n",
       "       'Trinitario', 'Downtown London', 'Africa meets Latina', 'Amazonas',\n",
       "       'one hundred', 'Kuruba', 'Orinoco', 'Excellence (US Version)',\n",
       "       'Cacao Nib Crunch', 'Brooklyn Blend', 'Carre Amer',\n",
       "       'Carre Grand Noir', 'Noir Infini',\n",
       "       'Grand Cru Blend No.1, 5 yr. Anniversary Ed', 'Signature Blend',\n",
       "       'Raw', 'Mid Mountain, 2014', '100 percent', 'Latino', 'Nibby',\n",
       "       'Extra Dark', 'Bittersweet', 'Wasatch', \"Chef's Blend\",\n",
       "       'TCHOPro 60.5', 'TCHOPro 68', 'Andoa, Grand Cru blend', 'Caraque',\n",
       "       'Le Noir Extra Amer', 'House Blend, Batch 2', 'Goddess Blend',\n",
       "       'Amazonas Frucht', 'Indianer, Raw'], dtype=object)"
      ]
     },
     "execution_count": 11,
     "metadata": {},
     "output_type": "execute_result"
    }
   ],
   "source": [
    "chocolate_data[chocolate_data['BB_origin'].str.len()==1]['SB_origin'].unique()"
   ]
  },
  {
   "cell_type": "code",
   "execution_count": 12,
   "metadata": {},
   "outputs": [
    {
     "data": {
      "text/plain": [
       "37"
      ]
     },
     "execution_count": 12,
     "metadata": {},
     "output_type": "execute_result"
    }
   ],
   "source": [
    "chocolate_data[chocolate_data['BB_origin'].str.contains(',')]['SB_origin'].nunique()"
   ]
  },
  {
   "cell_type": "code",
   "execution_count": 13,
   "metadata": {},
   "outputs": [
    {
     "data": {
      "text/plain": [
       "array(['Africa, Carribean, C. Am.', 'Australia', 'Belize', 'Bolivia',\n",
       "       'Brazil', 'Burma', 'Cameroon', 'Carribean', 'Carribean(DR/Jam/Tri)',\n",
       "       'Central and S. America', 'Colombia', 'Colombia, Ecuador', 'Congo',\n",
       "       'Cost Rica, Ven', 'Costa Rica', 'Cuba', 'DR, Ecuador, Peru',\n",
       "       'Dom. Rep., Madagascar', 'Domincan Republic',\n",
       "       'Dominican Rep., Bali', 'Dominican Republic', 'Ecuador',\n",
       "       'Ecuador, Costa Rica', 'Ecuador, Mad., PNG', 'El Salvador', 'Fiji',\n",
       "       'Gabon', 'Ghana', 'Ghana & Madagascar', 'Ghana, Domin. Rep',\n",
       "       'Ghana, Panama, Ecuador', 'Gre., PNG, Haw., Haiti, Mad', 'Grenada',\n",
       "       'Guat., D.R., Peru, Mad., PNG', 'Guatemala', 'Haiti', 'Hawaii',\n",
       "       'Honduras', 'India', 'Indonesia', 'Indonesia, Ghana', 'Ivory Coast',\n",
       "       'Jamaica', 'Liberia', 'Mad., Java, PNG', 'Madagascar',\n",
       "       'Madagascar & Ecuador', 'Malaysia', 'Martinique', 'Mexico',\n",
       "       'Nicaragua', 'Nigeria', 'PNG, Vanuatu, Mad', 'Panama',\n",
       "       'Papua New Guinea', 'Peru', 'Peru(SMartin,Pangoa,nacional)',\n",
       "       'Peru, Belize', 'Peru, Dom. Rep', 'Peru, Ecuador',\n",
       "       'Peru, Ecuador, Venezuela', 'Peru, Mad., Dom. Rep.',\n",
       "       'Peru, Madagascar', 'Philippines', 'Principe', 'Puerto Rico',\n",
       "       'Samoa', 'Sao Tome', 'Sao Tome & Principe', 'Solomon Islands',\n",
       "       'South America', 'South America, Africa', 'Sri Lanka', 'St. Lucia',\n",
       "       'Suriname', 'Tanzania', 'Tobago', 'Togo', 'Trinidad',\n",
       "       'Trinidad, Ecuador', 'Trinidad, Tobago', 'Trinidad-Tobago',\n",
       "       'Uganda', 'Vanuatu', 'Ven, Bolivia, D.R.', 'Ven, Trinidad, Ecuador',\n",
       "       'Ven., Indonesia, Ecuad.', 'Ven., Trinidad, Mad.',\n",
       "       'Ven.,Ecu.,Peru,Nic.', 'Venez,Africa,Brasil,Peru,Mex', 'Venezuela',\n",
       "       'Venezuela, Carribean', 'Venezuela, Dom. Rep.', 'Venezuela, Ghana',\n",
       "       'Venezuela, Java', 'Venezuela, Trinidad', 'Venezuela/ Ghana',\n",
       "       'Vietnam', 'West Africa', '\\xa0'], dtype=object)"
      ]
     },
     "execution_count": 13,
     "metadata": {},
     "output_type": "execute_result"
    }
   ],
   "source": [
    "chocolate_data['BB_origin'].sort_values().unique()"
   ]
  },
  {
   "cell_type": "code",
   "execution_count": 71,
   "metadata": {},
   "outputs": [],
   "source": [
    "# test preperation function\n",
    "def text_prep(text):\n",
    "    replacement = [\n",
    "        ['\\(', ','],['-', ','], ['/', ','], [' & ', ','], ['\\)', ''], [' and ', ','],\n",
    "        ['Dom Rep$|Dom Rep,|DR|Domin Rep|Dominican Rep$|Dominican Rep,|Domincan Republic', 'Dominican Republic,'],\n",
    "        ['Mad,|Mad$', 'Madagascar,'],['PNG,|PNG$', 'Papua New Guinea,'],\n",
    "        ['Guat,|Guat$', 'Guatemala,'], ['Ven,|Ven$|Venez,', 'Venezuela,'],\n",
    "        ['Ecu,|Ecu$|Ecuad,|Ecuad$', 'Ecuador,'],['Nic,|Nic$', 'Nicaragua,'],\n",
    "        ['Cost Rica', 'Costa Rica'], ['Mex,|Mex$', 'Mexico,'],['Nic,|Nic$','Nicaragua'],\n",
    "        ['Jam$|Jam,', 'Jamaica,'], ['Haw$|Haw,', 'Hawaii,'],\n",
    "        ['Gre$|Gre,', 'Grenada,'], ['Tri$', 'Trinidad'], ['C Am', 'Central America'],\n",
    "        ['S America', 'South America'], ['Central,', 'Central America,'],\n",
    "        ['\\\\xa0', ' '],  [',$',''], ['\\.',''], [',,',','], [',\\s+',',']\n",
    "    ]\n",
    "\n",
    "    for i, j in replacement:\n",
    "        text = re.sub(i,j,text)\n",
    "    return text"
   ]
  },
  {
   "cell_type": "code",
   "execution_count": 72,
   "metadata": {},
   "outputs": [
    {
     "data": {
      "text/plain": [
       "array(['Sao Tome', 'Togo', 'Peru', 'Venezuela', 'Cuba', 'Panama',\n",
       "       'Madagascar', 'Brazil', 'Ecuador', 'Colombia', 'Burma',\n",
       "       'Papua New Guinea', 'Bolivia', 'Fiji', 'Mexico', 'Indonesia',\n",
       "       'Trinidad', 'Vietnam', 'Nicaragua', 'Tanzania',\n",
       "       'Dominican Republic', 'Ghana', 'Belize', ' ', 'Jamaica', 'Grenada',\n",
       "       'Guatemala', 'Honduras', 'Costa Rica', 'Haiti', 'Congo',\n",
       "       'Philippines', 'Malaysia', 'Dominican Republic,Bali',\n",
       "       'Venezuela,Africa,Brasil,Peru,Mexico', 'Gabon', 'Ivory Coast',\n",
       "       'Carribean', 'Sri Lanka', 'Puerto Rico', 'Uganda', 'Martinique',\n",
       "       'Sao Tome,Principe', 'Vanuatu', 'Australia', 'Liberia',\n",
       "       'Ecuador,Costa Rica', 'West Africa', 'Hawaii', 'St Lucia',\n",
       "       'Costa Rica,Venezuela', 'Peru,Madagascar', 'Venezuela,Trinidad',\n",
       "       'Trinidad,Tobago', 'Venezuela,Trinidad,Ecuador',\n",
       "       'South America,Africa', 'India', 'Africa,Carribean,Central America',\n",
       "       'Tobago', 'Venezuela,Indonesia,Ecuador', 'Peru,Ecuador,Venezuela',\n",
       "       'Venezuela,Dominican Republic', 'Colombia,Ecuador',\n",
       "       'Solomon Islands', 'Nigeria', 'Peru,Belize',\n",
       "       'Peru,Madagascar,Dominican Republic',\n",
       "       'Papua New Guinea,Vanuatu,Madagascar', 'El Salvador',\n",
       "       'South America', 'Samoa', 'Ghana,Dominican Republic',\n",
       "       'Trinidad,Ecuador', 'Cameroon', 'Venezuela,Java', 'Venezuela,Ghana',\n",
       "       'Indonesia,Ghana', 'Peru,SMartin,Pangoa,nacional', 'Principe',\n",
       "       'Central America,South America', 'Venezuela,Trinidad,Madagascar',\n",
       "       'Carribean,Dominican Republic,Jamaica,Trinidad', 'Ghana,Madagascar',\n",
       "       'Venezuela,Ecuador,Peru,Nicaragua', 'Madagascar,Ecuador',\n",
       "       'Guatemala,Dominican Republic,Peru,Madagascar,Papua New Guinea',\n",
       "       'Peru,Dominican Republic', 'Dominican Republic,Madagascar',\n",
       "       'Grenada,Papua New Guinea,Hawaii,Haiti,Madagascar',\n",
       "       'Madagascar,Java,Papua New Guinea',\n",
       "       'Venezuela,Bolivia,Dominican Republic',\n",
       "       'Dominican Republic,Ecuador,Peru', 'Suriname', 'Peru,Ecuador',\n",
       "       'Ecuador,Madagascar,Papua New Guinea', 'Ghana,Panama,Ecuador',\n",
       "       'Venezuela,Carribean'], dtype=object)"
      ]
     },
     "execution_count": 72,
     "metadata": {},
     "output_type": "execute_result"
    }
   ],
   "source": [
    "#chocolate_data['new_BB_origin'] = chocolate_data['BB_origin'].str.replace('.','').apply(text_prep)\n",
    "#chocolate_data['origin'] = chocolate_data['BB_origin'] + '--->' + chocolate_data['new_BB_origin']\n",
    "#chocolate_data['origin'].unique()\n",
    "chocolate_data['BB_origin'] = chocolate_data['BB_origin'].str.replace('.','').apply(text_prep)\n",
    "chocolate_data['BB_origin'].unique()"
   ]
  },
  {
   "cell_type": "code",
   "execution_count": 73,
   "metadata": {},
   "outputs": [
    {
     "data": {
      "text/plain": [
       "1    1739\n",
       "2      38\n",
       "3      12\n",
       "5       3\n",
       "4       3\n",
       "Name: BB_origin, dtype: int64"
      ]
     },
     "execution_count": 73,
     "metadata": {},
     "output_type": "execute_result"
    }
   ],
   "source": [
    "## Count number of country in blend\n",
    "(chocolate_data['BB_origin'].str.count(',')+1).value_counts()"
   ]
  },
  {
   "cell_type": "code",
   "execution_count": 74,
   "metadata": {},
   "outputs": [
    {
     "data": {
      "text/plain": [
       "array(['Argentina', 'Australia', 'Austria', 'Belgium', 'Bolivia', 'Brazil',\n",
       "       'Canada', 'Chile', 'Colombia', 'Costa Rica', 'Czech Republic',\n",
       "       'Denmark', 'Dominican Republic', 'England', 'Eucador', 'Fiji',\n",
       "       'Finland', 'France', 'Germany', 'Ghana', 'Grenada', 'Guatemala',\n",
       "       'Holland', 'Honduras', 'Hungary', 'Iceland', 'India', 'Ireland',\n",
       "       'Israel', 'Italy', 'Japan', 'Lithuania', 'Madagascar', 'Martinique',\n",
       "       'Mexico', 'Netherlands', 'New Zealand', 'Nicaragua', 'Peru',\n",
       "       'Philippines', 'Poland', 'Portugal', 'Puerto Rico', 'Russia',\n",
       "       'Sao Tome', 'Scotland', 'Singapore', 'South Africa', 'South Korea',\n",
       "       'Spain', 'St. Lucia', 'Suriname', 'Sweden', 'Switzerland', 'U.S.A.',\n",
       "       'Venezuela', 'Vietnam', 'Wales'], dtype=object)"
      ]
     },
     "execution_count": 74,
     "metadata": {},
     "output_type": "execute_result"
    }
   ],
   "source": [
    "chocolate_data['Company_loc'].sort_values().unique()"
   ]
  },
  {
   "cell_type": "code",
   "execution_count": 75,
   "metadata": {},
   "outputs": [
    {
     "data": {
      "text/plain": [
       "array(['Argentina', 'Australia', 'Austria', 'Belgium', 'Bolivia', 'Brazil',\n",
       "       'Canada', 'Chile', 'Colombia', 'Costa Rica', 'Czech Republic',\n",
       "       'Denmark', 'Dominican Republic', 'England', 'Eucador', 'Fiji',\n",
       "       'Finland', 'France', 'Germany', 'Ghana', 'Grenada', 'Guatemala',\n",
       "       'Holland', 'Honduras', 'Hungary', 'Iceland', 'India', 'Ireland',\n",
       "       'Israel', 'Italy', 'Japan', 'Lithuania', 'Madagascar', 'Martinique',\n",
       "       'Mexico', 'Netherlands', 'New Zealand', 'Nicaragua', 'Peru',\n",
       "       'Philippines', 'Poland', 'Portugal', 'Puerto Rico', 'Russia',\n",
       "       'Sao Tome', 'Scotland', 'Singapore', 'South Africa', 'South Korea',\n",
       "       'Spain', 'St. Lucia', 'Suriname', 'Sweden', 'Switzerland', 'U.S.A.',\n",
       "       'Venezuela', 'Vietnam', 'Wales'], dtype=object)"
      ]
     },
     "execution_count": 75,
     "metadata": {},
     "output_type": "execute_result"
    }
   ],
   "source": [
    "chocolate_data['Company_loc'] = chocolate_data['Company_loc']\\\n",
    ".str.replace('Ecuador', 'Eucador')\\\n",
    ".str.replace('Amsterdam', 'Holland')\\\n",
    ".str.replace('U.K.', 'England')\\\n",
    ".str.replace('Niacragua', 'Nicaragua')\\\n",
    ".str.replace('Domincan Republic', 'Dominican Republic')\n",
    "\n",
    "chocolate_data['Company_loc'].sort_values().unique()"
   ]
  },
  {
   "cell_type": "code",
   "execution_count": 82,
   "metadata": {},
   "outputs": [],
   "source": [
    "#chocolate_data['is_blend'] = np.where(\n",
    "#    np.logical_or(\n",
    "#        np.logical_or(\n",
    "#            chocolate_data['SB_origin'].str.lower().str.contains(',|(blend)|;'),\n",
    "#            chocolate_data['BB_origin'].str.len() == 1,chocolate_data['BB_origin'].str.lower().str.contains(',')\n",
    "#        ),\n",
    "#        #chocolate_data['BB_origin'].str.lower().str.contains(','),\n",
    "#        1,\n",
    "#        0\n",
    "#    )\n",
    "#)\n",
    "chocolate_data['is_blend'] = np.logical_or(\n",
    "        np.logical_or(\n",
    "            chocolate_data['SB_origin'].str.lower().str.contains(',|(blend)|;'),\n",
    "            chocolate_data['BB_origin'].str.len() == 1,\n",
    "        ),\n",
    "        chocolate_data['BB_origin'].str.contains(',')\n",
    ")"
   ]
  },
  {
   "cell_type": "code",
   "execution_count": 84,
   "metadata": {},
   "outputs": [
    {
     "data": {
      "text/plain": [
       "False    1096\n",
       "True      699\n",
       "Name: is_blend, dtype: int64"
      ]
     },
     "execution_count": 84,
     "metadata": {},
     "output_type": "execute_result"
    }
   ],
   "source": [
    "chocolate_data['is_blend'].value_counts()"
   ]
  },
  {
   "cell_type": "code",
   "execution_count": 86,
   "metadata": {},
   "outputs": [
    {
     "data": {
      "text/plain": [
       "{False: Int64Index([   0,    1,    2,    3,    4,    5,    6,    7,    8,    9,\n",
       "             ...\n",
       "             1775, 1776, 1784, 1785, 1786, 1787, 1790, 1791, 1792, 1793],\n",
       "            dtype='int64', length=1096),\n",
       " True: Int64Index([  23,   24,   26,   28,   29,   30,   32,   33,   34,   39,\n",
       "             ...\n",
       "             1777, 1778, 1779, 1780, 1781, 1782, 1783, 1788, 1789, 1794],\n",
       "            dtype='int64', length=699)}"
      ]
     },
     "execution_count": 86,
     "metadata": {},
     "output_type": "execute_result"
    }
   ],
   "source": [
    "chocolate_data.groupby('is_blend').groups"
   ]
  },
  {
   "cell_type": "code",
   "execution_count": null,
   "metadata": {},
   "outputs": [],
   "source": []
  }
 ],
 "metadata": {
  "kernelspec": {
   "display_name": "Python 3",
   "language": "python",
   "name": "python3"
  },
  "language_info": {
   "codemirror_mode": {
    "name": "ipython",
    "version": 3
   },
   "file_extension": ".py",
   "mimetype": "text/x-python",
   "name": "python",
   "nbconvert_exporter": "python",
   "pygments_lexer": "ipython3",
   "version": "3.6.3"
  }
 },
 "nbformat": 4,
 "nbformat_minor": 2
}
